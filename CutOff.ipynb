{
 "metadata": {
  "name": ""
 },
 "nbformat": 3,
 "nbformat_minor": 0,
 "worksheets": [
  {
   "cells": [
    {
     "cell_type": "markdown",
     "metadata": {},
     "source": [
      "##2. Zuordnung\n",
      "---\n",
      "\n",
      "Im vorigen Abschnitt wurden Daten zur Klassifizierung von Objekten in die zwei Klassen \"gesund\" und \"krank\" vorgestellt. Die Klassifizierung soll anhand der K\u00f6rpertemperatur erfolgen. \n",
      "\n",
      "Da der wahre Status der Objekte bekannt ist kann untersucht werden, wie sich die Festlegung der Entscheidungsregel auf die Einteilung der Individuen im Vergleich zum wahren Status verh\u00e4lt. Die Besonderheit an dem verwendeten artifiziellen Datensatz besteht darin, dass sich die K\u00f6rpertemperaturen von Objekten der beiden Klassen \u00fcberlappen. Die daraus resultierende Problematik soll andhand nachfolgender Grafik erl\u00e4utert werden.  "
     ]
    },
    {
     "cell_type": "code",
     "collapsed": false,
     "input": [],
     "language": "python",
     "metadata": {},
     "outputs": []
    }
   ],
   "metadata": {}
  }
 ]
}